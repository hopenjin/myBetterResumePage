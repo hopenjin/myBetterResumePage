{
 "cells": [
  {
   "cell_type": "markdown",
   "metadata": {},
   "source": [
    "# Customer Booking Prediction from Expedia Clickstream Data"
   ]
  },
  {
   "cell_type": "markdown",
   "metadata": {},
   "source": [
    "Hongpeng Jin &nbsp;&nbsp;&nbsp;&nbsp;&nbsp;&nbsp;&nbsp;&nbsp;&nbsp; \n",
    "469-543-7960 &nbsp;&nbsp;&nbsp;&nbsp;&nbsp;&nbsp;&nbsp;&nbsp;&nbsp; \n",
    "hopenjin@gmail.com &nbsp;&nbsp;&nbsp;&nbsp;&nbsp;&nbsp;&nbsp;&nbsp;&nbsp; \n",
    "linkedin.com/in/hongpeng-jin/"
   ]
  },
  {
   "cell_type": "markdown",
   "metadata": {},
   "source": [
    "This project is to analyst the personal data and behavioral data of customer, and to build a good model to predict a customer would book or not based on his or her data. <br /> \n",
    "The skills we used contains missing data processing, PCA, Logistic Regression, Support Vector Machine, Xgboost, and some visualization. <br /> \n",
    "So, let's start!"
   ]
  },
  {
   "cell_type": "code",
   "execution_count": 1,
   "metadata": {},
   "outputs": [],
   "source": [
    "import warnings\n",
    "warnings.filterwarnings(\"ignore\")"
   ]
  },
  {
   "cell_type": "markdown",
   "metadata": {},
   "source": [
    "First, we need to load data and show some data to know what it looks like."
   ]
  },
  {
   "cell_type": "code",
   "execution_count": 2,
   "metadata": {},
   "outputs": [],
   "source": [
    "# load dataset\n",
    "import numpy as np\n",
    "import pandas as pd\n",
    "\n",
    "data=pd.read_csv(\"C:/Users/hopen/Desktop/Data-Analytics/expedia.csv\")"
   ]
  },
  {
   "cell_type": "markdown",
   "metadata": {},
   "source": [
    "Here we use some easy way, such as seaborn, to show the relationships between the personal data."
   ]
  },
  {
   "cell_type": "code",
   "execution_count": 3,
   "metadata": {
    "scrolled": false
   },
   "outputs": [
    {
     "data": {
      "text/plain": [
       "<seaborn.axisgrid.PairGrid at 0x21ea09453c8>"
      ]
     },
     "execution_count": 3,
     "metadata": {},
     "output_type": "execute_result"
    }
   ],
   "source": [
    "import seaborn as sns\n",
    "sns.set(style=\"ticks\")\n",
    "\n",
    "df = data[['gender','age','income','edu','hhsize','child','bookfut']]\n",
    "sns.pairplot(df, hue=\"bookfut\")"
   ]
  },
  {
   "cell_type": "markdown",
   "metadata": {},
   "source": [
    "It's looks no big difference between the user is going to book and the other. Let's the others."
   ]
  },
  {
   "cell_type": "code",
   "execution_count": 4,
   "metadata": {},
   "outputs": [
    {
     "data": {
      "text/plain": [
       "<matplotlib.axes._subplots.AxesSubplot at 0x21ea4db4cc0>"
      ]
     },
     "execution_count": 4,
     "metadata": {},
     "output_type": "execute_result"
    },
    {
     "data": {
      "image/png": "[encoded data removed]",
      "text/plain": [
       "<Figure size 432x288 with 1 Axes>"
      ]
     },
     "metadata": {
      "needs_background": "light"
     },
     "output_type": "display_data"
    }
   ],
   "source": [
    "data.bookfut.value_counts().plot(kind=\"bar\", rot=0)"
   ]
  },
  {
   "cell_type": "markdown",
   "metadata": {},
   "source": [
    "Is this too much imbalanced? I suppose I should resample the dataset using SMOTE. However, after trying, the score didn't go up, so maybe it is fine."
   ]
  },
  {
   "cell_type": "code",
   "execution_count": 5,
   "metadata": {},
   "outputs": [
    {
     "data": {
      "text/html": [
       "<div>\n",
       "<style scoped>\n",
       "    .dataframe tbody tr th:only-of-type {\n",
       "        vertical-align: middle;\n",
       "    }\n",
       "\n",
       "    .dataframe tbody tr th {\n",
       "        vertical-align: top;\n",
       "    }\n",
       "\n",
       "    .dataframe thead th {\n",
       "        text-align: right;\n",
       "    }\n",
       "</style>\n",
       "<table border=\"1\" class=\"dataframe\">\n",
       "  <thead>\n",
       "    <tr style=\"text-align: right;\">\n",
       "      <th></th>\n",
       "      <th>gender</th>\n",
       "      <th>age</th>\n",
       "      <th>income</th>\n",
       "      <th>edu</th>\n",
       "      <th>hhsize</th>\n",
       "      <th>child</th>\n",
       "      <th>booklh</th>\n",
       "      <th>sesslh</th>\n",
       "      <th>minutelh</th>\n",
       "      <th>hpsesslh</th>\n",
       "      <th>...</th>\n",
       "      <th>SErate</th>\n",
       "      <th>bookgc</th>\n",
       "      <th>hitgc</th>\n",
       "      <th>basketgc</th>\n",
       "      <th>minutegc</th>\n",
       "      <th>SEgc</th>\n",
       "      <th>path</th>\n",
       "      <th>hitshc</th>\n",
       "      <th>minutshc</th>\n",
       "      <th>bookfut</th>\n",
       "    </tr>\n",
       "  </thead>\n",
       "  <tbody>\n",
       "    <tr>\n",
       "      <th>0</th>\n",
       "      <td>1.0</td>\n",
       "      <td>28.0</td>\n",
       "      <td>3.0</td>\n",
       "      <td>1.0</td>\n",
       "      <td>2.0</td>\n",
       "      <td>NaN</td>\n",
       "      <td>NaN</td>\n",
       "      <td>4.0</td>\n",
       "      <td>22.5</td>\n",
       "      <td>10.5</td>\n",
       "      <td>...</td>\n",
       "      <td>1.0</td>\n",
       "      <td>1.0</td>\n",
       "      <td>155.0</td>\n",
       "      <td>5.0</td>\n",
       "      <td>46.0</td>\n",
       "      <td>1.0</td>\n",
       "      <td>NaN</td>\n",
       "      <td>0.49</td>\n",
       "      <td>0.39</td>\n",
       "      <td>0</td>\n",
       "    </tr>\n",
       "    <tr>\n",
       "      <th>1</th>\n",
       "      <td>0.0</td>\n",
       "      <td>28.0</td>\n",
       "      <td>4.0</td>\n",
       "      <td>NaN</td>\n",
       "      <td>2.0</td>\n",
       "      <td>0.0</td>\n",
       "      <td>0.0</td>\n",
       "      <td>NaN</td>\n",
       "      <td>0.0</td>\n",
       "      <td>0.0</td>\n",
       "      <td>...</td>\n",
       "      <td>NaN</td>\n",
       "      <td>1.0</td>\n",
       "      <td>10.0</td>\n",
       "      <td>2.0</td>\n",
       "      <td>14.5</td>\n",
       "      <td>0.0</td>\n",
       "      <td>NaN</td>\n",
       "      <td>0.40</td>\n",
       "      <td>0.44</td>\n",
       "      <td>0</td>\n",
       "    </tr>\n",
       "    <tr>\n",
       "      <th>2</th>\n",
       "      <td>0.0</td>\n",
       "      <td>41.0</td>\n",
       "      <td>NaN</td>\n",
       "      <td>1.0</td>\n",
       "      <td>3.0</td>\n",
       "      <td>0.0</td>\n",
       "      <td>0.0</td>\n",
       "      <td>NaN</td>\n",
       "      <td>23.8</td>\n",
       "      <td>9.5</td>\n",
       "      <td>...</td>\n",
       "      <td>NaN</td>\n",
       "      <td>0.0</td>\n",
       "      <td>9.0</td>\n",
       "      <td>1.0</td>\n",
       "      <td>6.0</td>\n",
       "      <td>1.0</td>\n",
       "      <td>NaN</td>\n",
       "      <td>1.00</td>\n",
       "      <td>1.00</td>\n",
       "      <td>0</td>\n",
       "    </tr>\n",
       "    <tr>\n",
       "      <th>3</th>\n",
       "      <td>1.0</td>\n",
       "      <td>50.0</td>\n",
       "      <td>4.0</td>\n",
       "      <td>1.0</td>\n",
       "      <td>2.0</td>\n",
       "      <td>0.0</td>\n",
       "      <td>1.0</td>\n",
       "      <td>3.0</td>\n",
       "      <td>49.2</td>\n",
       "      <td>35.3</td>\n",
       "      <td>...</td>\n",
       "      <td>NaN</td>\n",
       "      <td>0.0</td>\n",
       "      <td>22.0</td>\n",
       "      <td>1.0</td>\n",
       "      <td>35.0</td>\n",
       "      <td>1.0</td>\n",
       "      <td>NaN</td>\n",
       "      <td>NaN</td>\n",
       "      <td>1.00</td>\n",
       "      <td>0</td>\n",
       "    </tr>\n",
       "    <tr>\n",
       "      <th>4</th>\n",
       "      <td>1.0</td>\n",
       "      <td>31.0</td>\n",
       "      <td>5.0</td>\n",
       "      <td>2.0</td>\n",
       "      <td>2.0</td>\n",
       "      <td>0.0</td>\n",
       "      <td>0.0</td>\n",
       "      <td>6.0</td>\n",
       "      <td>NaN</td>\n",
       "      <td>18.0</td>\n",
       "      <td>...</td>\n",
       "      <td>NaN</td>\n",
       "      <td>0.0</td>\n",
       "      <td>5.0</td>\n",
       "      <td>NaN</td>\n",
       "      <td>3.0</td>\n",
       "      <td>1.0</td>\n",
       "      <td>0.0</td>\n",
       "      <td>0.80</td>\n",
       "      <td>0.76</td>\n",
       "      <td>0</td>\n",
       "    </tr>\n",
       "  </tbody>\n",
       "</table>\n",
       "<p>5 rows × 41 columns</p>\n",
       "</div>"
      ],
      "text/plain": [
       "   gender   age  income  edu  hhsize  child  booklh  sesslh  minutelh  \\\n",
       "0     1.0  28.0     3.0  1.0     2.0    NaN     NaN     4.0      22.5   \n",
       "1     0.0  28.0     4.0  NaN     2.0    0.0     0.0     NaN       0.0   \n",
       "2     0.0  41.0     NaN  1.0     3.0    0.0     0.0     NaN      23.8   \n",
       "3     1.0  50.0     4.0  1.0     2.0    0.0     1.0     3.0      49.2   \n",
       "4     1.0  31.0     5.0  2.0     2.0    0.0     0.0     6.0       NaN   \n",
       "\n",
       "   hpsesslh  ...  SErate  bookgc  hitgc  basketgc  minutegc  SEgc  path  \\\n",
       "0      10.5  ...     1.0     1.0  155.0       5.0      46.0   1.0   NaN   \n",
       "1       0.0  ...     NaN     1.0   10.0       2.0      14.5   0.0   NaN   \n",
       "2       9.5  ...     NaN     0.0    9.0       1.0       6.0   1.0   NaN   \n",
       "3      35.3  ...     NaN     0.0   22.0       1.0      35.0   1.0   NaN   \n",
       "4      18.0  ...     NaN     0.0    5.0       NaN       3.0   1.0   0.0   \n",
       "\n",
       "   hitshc  minutshc  bookfut  \n",
       "0    0.49      0.39        0  \n",
       "1    0.40      0.44        0  \n",
       "2    1.00      1.00        0  \n",
       "3     NaN      1.00        0  \n",
       "4    0.80      0.76        0  \n",
       "\n",
       "[5 rows x 41 columns]"
      ]
     },
     "execution_count": 5,
     "metadata": {},
     "output_type": "execute_result"
    }
   ],
   "source": [
    "data.head()"
   ]
  },
  {
   "cell_type": "markdown",
   "metadata": {},
   "source": [
    "After reading some row of this data, we could find there are many 'NaN' in many columns, so we need to deal with them first since some models couldn't be trained using this data."
   ]
  },
  {
   "cell_type": "code",
   "execution_count": 6,
   "metadata": {
    "scrolled": true
   },
   "outputs": [
    {
     "data": {
      "text/plain": [
       "gender       319\n",
       "age          311\n",
       "income       318\n",
       "edu          315\n",
       "hhsize       295\n",
       "child        304\n",
       "booklh       311\n",
       "sesslh       327\n",
       "minutelh     339\n",
       "hpsesslh     309\n",
       "mpsesslh     322\n",
       "booklc       302\n",
       "httlc        297\n",
       "minutelc     320\n",
       "weekend      268\n",
       "bookgh       313\n",
       "sespsite     306\n",
       "sessgh       329\n",
       "minutegh     305\n",
       "hpsessgh     356\n",
       "mpsessgh     308\n",
       "awareset     326\n",
       "basket       321\n",
       "single       282\n",
       "booksh       339\n",
       "hitsh        299\n",
       "sessh        319\n",
       "minutesh     273\n",
       "entrate      308\n",
       "peakrate     325\n",
       "exitrate     310\n",
       "SErate      1594\n",
       "bookgc       332\n",
       "hitgc        341\n",
       "basketgc     333\n",
       "minutegc     293\n",
       "SEgc         310\n",
       "path        1831\n",
       "hitshc       310\n",
       "minutshc     301\n",
       "bookfut        0\n",
       "dtype: int64"
      ]
     },
     "execution_count": 6,
     "metadata": {},
     "output_type": "execute_result"
    }
   ],
   "source": [
    "data.isna().sum()"
   ]
  },
  {
   "cell_type": "markdown",
   "metadata": {},
   "source": [
    "OK, so we find almost all the columns have 'NaN' value, so this is a big problem for us. <br /> \n",
    "We could see the result, it shows that most of them have around 300 missing value, but the number of missing value in \"SErate\" and \"path\" is huge!<br /> \n",
    "We could use the mean or mode of these columns to fill their missing value, but it might be a problem to fill the column named \"SErate\" and \"path\" since they miss too many, almost half of the total number. If we still use this way, it might cause some bias. <br /> \n",
    "Therefore, my plan is to fill the columns with small number of 'NaN', and then use these columns to predict the columns with small number.<br />"
   ]
  },
  {
   "cell_type": "markdown",
   "metadata": {},
   "source": [
    "## Miss Data Processing ---- using Random Forest"
   ]
  },
  {
   "cell_type": "markdown",
   "metadata": {},
   "source": [
    "We have talked the way to deal with missing value. Here, we need talk more details about our plan. <br />\n",
    "First, divide the column \"SErate\", the column \"path\" and the targe column from data, and name x_data.<br />\n",
    "Second, fill use the mode of each column in x_data to fill its missing value, so we could get a x_data without 'NaN' value.<br />\n",
    "Third, concat the x_data with the column \"SErate\" and the column \"path\" separately, and then cut the data into training data and testing data depended the row has 'NaN' or not. In other words, we use the row with value of \"SErate\" or \"path\" as training data to predict the row without the value of \"SErate\" or \"path\".<br />\n",
    "Fourthly, we use the training data to train a Random Forest model, and predict the value of \"SErate\" or \"path\" in testing.<br /> \n",
    "Next, use the prediction to fill the column \"SErate\" and the \"path\", then concat training data and testing data. Here, be careful with the sort of the data. If concat directly, the index would change which would cause the problem that x_data would not match the targe column.<br />\n",
    "Final, we get two x_data, one with the column \"SErate\" and the other with \"path\", so what we do here is divide the column \"SErate\" from the fist x_data and combine it with the x_data with the column \"path\".<br />\n",
    "So far, we get x_data without 'NaN', this problem is solved! Nice!<br />"
   ]
  },
  {
   "cell_type": "code",
   "execution_count": 7,
   "metadata": {},
   "outputs": [],
   "source": [
    "# data divide into x_data, data['SErate'], data['path'], y_data\n",
    "x_data = data.loc[:,(data.columns != 'bookfut') & (data.columns !='SErate') & (data.columns != 'path')]\n",
    "y_data = data['bookfut']\n",
    "SErate_data = data['SErate']\n",
    "path_data = data['path']\n",
    "columns_name = x_data.columns.values"
   ]
  },
  {
   "cell_type": "code",
   "execution_count": 8,
   "metadata": {},
   "outputs": [
    {
     "name": "stderr",
     "output_type": "stream",
     "text": [
      "C:\\Users\\hopen\\Anaconda3\\lib\\site-packages\\sklearn\\utils\\deprecation.py:58: DeprecationWarning: Class Imputer is deprecated; Imputer was deprecated in version 0.20 and will be removed in 0.22. Import impute.SimpleImputer from sklearn instead.\n",
      "  warnings.warn(msg, category=DeprecationWarning)\n"
     ]
    }
   ],
   "source": [
    "# use 'mean value' to fill the rest of columns expect data['SErate'] and data['path']\n",
    "from sklearn.preprocessing import Imputer\n",
    "imp = Imputer(missing_values = 'NaN' , strategy = 'most_frequent',axis=0)                        \n",
    "nan_model = imp.fit(x_data)\n",
    "x_data = nan_model.fit_transform(x_data)\n",
    "\n",
    "# change back the array to dataframe format\n",
    "x_data = pd.DataFrame(x_data,columns=columns_name)"
   ]
  },
  {
   "cell_type": "code",
   "execution_count": 9,
   "metadata": {},
   "outputs": [],
   "source": [
    "# concat the filled columns with data['SErate'], here to fill data['SErate'] first\n",
    "data_SErate = pd.concat([x_data, SErate_data],axis=1)\n",
    "data_path = pd.concat([x_data, path_data],axis=1)\n",
    "\n",
    "# Separate into train and test data set\n",
    "train_SErate = data_SErate.dropna()\n",
    "x_train_SErate = train_SErate.loc[:,train_SErate.columns !='SErate']\n",
    "y_train_SErate = train_SErate['SErate']\n",
    "test_SErate = data_SErate[lambda test_SErate: test_SErate['SErate'].isna()]\n",
    "x_test_SErate = test_SErate.loc[:,test_SErate.columns !='SErate']\n",
    "y_pred_SErate = test_SErate['SErate']\n",
    "\n",
    "train_path = data_path.dropna()\n",
    "x_train_path = train_path.loc[:,train_path.columns !='path']\n",
    "y_train_path = train_path['path']\n",
    "test_path = data_path[lambda test_path: test_path['path'].isna()]\n",
    "x_test_path = test_path.loc[:,test_path.columns !='path']\n",
    "y_pred_path = test_path['path']"
   ]
  },
  {
   "cell_type": "code",
   "execution_count": 10,
   "metadata": {},
   "outputs": [],
   "source": [
    "# predict the missing value in data['path'] using Random Forest model\n",
    "from sklearn.svm import SVC\n",
    "from sklearn.ensemble import RandomForestClassifier\n",
    "from sklearn.preprocessing import LabelEncoder\n",
    "\n",
    "# clf = SVC()\n",
    "clf = RandomForestClassifier()    # Random Forest is better than SVM\n",
    "\n",
    "lab_enc = LabelEncoder()\n",
    "y_train_SErate_encoded = lab_enc.fit_transform(y_train_SErate)\n",
    "y_train_path_encoded = lab_enc.fit_transform(y_train_path)\n",
    "\n",
    "clf.fit(x_train_SErate, y_train_SErate_encoded)\n",
    "y_pred_SErate=clf.predict(x_test_SErate) # predict the test data\n",
    "clf.fit(x_train_path, y_train_path_encoded)\n",
    "y_pred_path=clf.predict(x_test_path) # predict the test data"
   ]
  },
  {
   "cell_type": "code",
   "execution_count": 11,
   "metadata": {},
   "outputs": [],
   "source": [
    "# concat the filled data['SErate'] and data['path'] to x_train and x_test \n",
    "x_train_SErate = pd.concat([x_train_SErate, y_train_SErate],axis=1)\n",
    "x_test_SErate['SErate'] = y_pred_SErate\n",
    "x_train_path = pd.concat([x_train_path, y_train_path],axis=1)\n",
    "x_test_path['path'] = y_pred_path\n",
    "\n",
    "# concat the two divided datasets (x_train and x-test) into one dataset and sort by old way\n",
    "x_data_SErate = pd.concat([x_train_SErate, x_test_SErate],axis=0).reindex(x_data.index)\n",
    "x_data_path = pd.concat([x_train_path, x_test_path],axis=0).reindex(x_data.index)"
   ]
  },
  {
   "cell_type": "code",
   "execution_count": 12,
   "metadata": {},
   "outputs": [],
   "source": [
    "# after fill data['SErate_data'] and data['path_data'], combine back to x_data\n",
    "SErate_data = x_data_SErate['SErate']\n",
    "x_data = x_data_path\n",
    "x_data = pd.concat([x_data, SErate_data],axis=1)"
   ]
  },
  {
   "cell_type": "code",
   "execution_count": 13,
   "metadata": {
    "scrolled": true
   },
   "outputs": [
    {
     "data": {
      "text/plain": [
       "gender      0\n",
       "age         0\n",
       "income      0\n",
       "edu         0\n",
       "hhsize      0\n",
       "child       0\n",
       "booklh      0\n",
       "sesslh      0\n",
       "minutelh    0\n",
       "hpsesslh    0\n",
       "mpsesslh    0\n",
       "booklc      0\n",
       "httlc       0\n",
       "minutelc    0\n",
       "weekend     0\n",
       "bookgh      0\n",
       "sespsite    0\n",
       "sessgh      0\n",
       "minutegh    0\n",
       "hpsessgh    0\n",
       "mpsessgh    0\n",
       "awareset    0\n",
       "basket      0\n",
       "single      0\n",
       "booksh      0\n",
       "hitsh       0\n",
       "sessh       0\n",
       "minutesh    0\n",
       "entrate     0\n",
       "peakrate    0\n",
       "exitrate    0\n",
       "bookgc      0\n",
       "hitgc       0\n",
       "basketgc    0\n",
       "minutegc    0\n",
       "SEgc        0\n",
       "hitshc      0\n",
       "minutshc    0\n",
       "path        0\n",
       "SErate      0\n",
       "dtype: int64"
      ]
     },
     "execution_count": 13,
     "metadata": {},
     "output_type": "execute_result"
    }
   ],
   "source": [
    "# check the x_data is filled or not \n",
    "x_data.isna().sum()"
   ]
  },
  {
   "cell_type": "markdown",
   "metadata": {},
   "source": [
    "Zero missing value. Done!<br />\n",
    "\n",
    "After filling missing value, we also need to scale the data since the data ranges in each column are different with others, which would cause bias. Therefore, we need to scale them."
   ]
  },
  {
   "cell_type": "code",
   "execution_count": 14,
   "metadata": {},
   "outputs": [],
   "source": [
    "#Scaling x_data\n",
    "from sklearn.preprocessing import scale\n",
    "x_data = scale(x_data)"
   ]
  },
  {
   "cell_type": "markdown",
   "metadata": {},
   "source": [
    "Here, considering there might be some columns that correlate with others, we try to do Principal component analysis to reduce these influence."
   ]
  },
  {
   "cell_type": "code",
   "execution_count": 15,
   "metadata": {},
   "outputs": [
    {
     "name": "stdout",
     "output_type": "stream",
     "text": [
      "[0.12344771 0.11407931 0.07590905 0.06486364 0.04724543 0.04459544\n",
      " 0.03872373 0.0355287  0.03161841 0.03009699 0.02885101 0.02677892\n",
      " 0.02394617 0.02278963 0.02147779 0.01995165 0.01913612 0.01883635\n",
      " 0.01789952 0.01678597 0.01642077 0.01543174 0.01417095 0.01187579\n",
      " 0.01145802 0.01098888 0.01070242 0.01002929 0.00941134 0.00932429\n",
      " 0.00816013]\n"
     ]
    }
   ],
   "source": [
    "# dimensionality reduction\n",
    "from sklearn.decomposition import PCA\n",
    "pca = PCA(0.95)\n",
    "x_data_pca = pca.fit_transform(x_data)\n",
    "print(pca.explained_variance_ratio_)   "
   ]
  },
  {
   "cell_type": "markdown",
   "metadata": {},
   "source": [
    "It looks good!<br />\n",
    "\n",
    "Now, let start to train our models. I choose Logistic Regression, Support Vector Machine, Gradient Boosting and Xgboost. Before that, don't forget separate the data into training data and testing data!"
   ]
  },
  {
   "cell_type": "code",
   "execution_count": 16,
   "metadata": {},
   "outputs": [],
   "source": [
    "#Separate into train and test data set\n",
    "from sklearn.model_selection import train_test_split\n",
    "x_train, x_test, y_train, y_test=train_test_split(x_data,y_data,test_size=0.3,random_state=0)"
   ]
  },
  {
   "cell_type": "code",
   "execution_count": 17,
   "metadata": {},
   "outputs": [],
   "source": [
    "from sklearn.linear_model import LogisticRegression\n",
    "from sklearn import svm\n",
    "from sklearn.ensemble import GradientBoostingClassifier\n",
    "from sklearn.ensemble import RandomForestClassifier\n",
    "from xgboost import XGBClassifier\n",
    "from sklearn.metrics import accuracy_score\n",
    "from sklearn.metrics import confusion_matrix\n",
    "from sklearn import metrics\n",
    "import matplotlib.pyplot as plt\n",
    "\n",
    "# Add the models to the list that you want to view on the ROC plot\n",
    "models = [\n",
    "           {'label': 'Logistic Regression',   'model': LogisticRegression(),},\n",
    "           {'label': 'SVC',                   'model': svm.SVC(probability=True),},\n",
    "           {'label': 'Gradient Boosting',     'model': GradientBoostingClassifier(),},\n",
    "           {'label': 'XGBClassifier',         'model': XGBClassifier(),}\n",
    "]"
   ]
  },
  {
   "cell_type": "code",
   "execution_count": 18,
   "metadata": {},
   "outputs": [
    {
     "name": "stdout",
     "output_type": "stream",
     "text": [
      "Test accuracy is 0.871931696905016\n",
      "Confusion matrix:\n",
      "[[805  22]\n",
      " [ 98  12]]\n",
      "Normalized Confusion matrix:\n",
      "[[0.97339782 0.02660218]\n",
      " [0.89090909 0.10909091]]\n",
      "Test accuracy is 0.9114194236926361\n",
      "Confusion matrix:\n",
      "[[824   3]\n",
      " [ 80  30]]\n",
      "Normalized Confusion matrix:\n",
      "[[0.99637243 0.00362757]\n",
      " [0.72727273 0.27272727]]\n",
      "Test accuracy is 0.9220917822838848\n",
      "Confusion matrix:\n",
      "[[819   8]\n",
      " [ 65  45]]\n",
      "Normalized Confusion matrix:\n",
      "[[0.99032648 0.00967352]\n",
      " [0.59090909 0.40909091]]\n",
      "Test accuracy is 0.9124866595517609\n",
      "Confusion matrix:\n",
      "[[822   5]\n",
      " [ 77  33]]\n",
      "Normalized Confusion matrix:\n",
      "[[0.99395405 0.00604595]\n",
      " [0.7        0.3       ]]\n"
     ]
    },
    {
     "data": {
      "image/png": "[encoded data removed]",
      "text/plain": [
       "<Figure size 648x432 with 1 Axes>"
      ]
     },
     "metadata": {
      "needs_background": "light"
     },
     "output_type": "display_data"
    }
   ],
   "source": [
    "plt.figure(figsize=(9, 6))\n",
    "# Below for loop iterates through your models list\n",
    "for m in models:\n",
    "    model = m['model'] # select the model\n",
    "    model.fit(x_train, y_train) # train the model\n",
    "    y_pred=model.predict(x_test) # predict the test data\n",
    "#  print out model evaluation\n",
    "    print('Test accuracy is {}'.format(accuracy_score(y_test,y_pred)))\n",
    "    conf_mat =confusion_matrix(y_test,y_pred)\n",
    "    print(\"Confusion matrix:\\n%s\" % conf_mat)\n",
    "    conf_mat_norm = conf_mat.astype('float') / conf_mat.sum(axis=1)[:, np.newaxis]\n",
    "    print(\"Normalized Confusion matrix:\\n%s\" % conf_mat_norm)\n",
    "# Compute False postive rate, and True positive rate\n",
    "    fpr, tpr, thresholds = metrics.roc_curve(y_test, model.predict_proba(x_test)[:,1])\n",
    "# Calculate Area under the curve to display on the plot\n",
    "    auc = metrics.roc_auc_score(y_test,model.predict(x_test))\n",
    "# Now, plot the computed values\n",
    "    plt.plot(fpr, tpr, label='%s ROC (area = %0.2f)' % (m['label'], auc))\n",
    "# Custom settings for the plot \n",
    "plt.plot([0, 1], [0, 1],'r--')\n",
    "plt.xlim([0.0, 1.0])\n",
    "plt.ylim([0.0, 1.05])\n",
    "plt.xlabel('1-Specificity(False Positive Rate)')\n",
    "plt.ylabel('Sensitivity(True Positive Rate)')\n",
    "plt.title('ROC curve')\n",
    "plt.legend(loc=\"lower right\")\n",
    "plt.show()   # Display"
   ]
  },
  {
   "cell_type": "markdown",
   "metadata": {},
   "source": [
    "So far, we finish training our models and get some info about their performance. Here, we could say the models using Gradient Boosting or Xgboost are pretty good. If we do more parameter tuning, they would get higher accuracy."
   ]
  }
 ],
 "metadata": {
  "kernelspec": {
   "display_name": "Python 3",
   "language": "python",
   "name": "python3"
  },
  "language_info": {
   "codemirror_mode": {
    "name": "ipython",
    "version": 3
   },
   "file_extension": ".py",
   "mimetype": "text/x-python",
   "name": "python",
   "nbconvert_exporter": "python",
   "pygments_lexer": "ipython3",
   "version": "3.6.8"
  }
 },
 "nbformat": 4,
 "nbformat_minor": 2
}
